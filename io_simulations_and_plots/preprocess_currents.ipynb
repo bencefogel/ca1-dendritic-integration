{
 "cells": [
  {
   "metadata": {},
   "cell_type": "markdown",
   "source": [
    "## Input-output integration of an oblique branch\n",
    "- branch 108 with and without Ca2+ currents\n",
    "- stimulus configurations: 8, 10, 15, 20\n",
    "- t = [280; 480]"
   ],
   "id": "9ff847442504087e"
  },
  {
   "metadata": {},
   "cell_type": "markdown",
   "source": "### Import packages",
   "id": "e9a252ee06abee9c"
  },
  {
   "metadata": {
    "ExecuteTime": {
     "end_time": "2025-06-16T06:52:31.313579Z",
     "start_time": "2025-06-16T06:52:31.301548Z"
    }
   },
   "cell_type": "code",
   "source": [
    "import pickle\n",
    "import numpy as np"
   ],
   "id": "7c60dfac1cb06b41",
   "outputs": [],
   "execution_count": 29
  },
  {
   "metadata": {},
   "cell_type": "markdown",
   "source": "### Load data",
   "id": "b4a084f1e810c034"
  },
  {
   "metadata": {
    "ExecuteTime": {
     "end_time": "2025-06-16T06:53:12.884179Z",
     "start_time": "2025-06-16T06:53:12.311461Z"
    }
   },
   "cell_type": "code",
   "source": [
    "data_folder = 'L:/branch108/correct_time'\n",
    "dend = 108\n",
    "fname = f'IN_{dend}'\n",
    "\n",
    "# with open(f'{data_folder}/single_noca.pkl', 'rb') as f:\n",
    "#     simulation_data_single = pickle.load(f)\n",
    "\n",
    "with open(f'{data_folder}/together_ca.pkl', 'rb') as f:\n",
    "    simulation_data_together = pickle.load(f)"
   ],
   "id": "ffcb3be087c42996",
   "outputs": [],
   "execution_count": 34
  },
  {
   "metadata": {
    "ExecuteTime": {
     "end_time": "2025-06-16T06:52:55.682778Z",
     "start_time": "2025-06-16T06:52:55.669777Z"
    }
   },
   "cell_type": "code",
   "source": [
    "def filter_idx(t: np.array) -> np.array:\n",
    "    t_idx = np.where((t > 280) & (t < 480))\n",
    "    return np.squeeze(np.array(t_idx))\n",
    "\n",
    "def filter_data(data:np.array, t_idx:np.array) -> np.array:\n",
    "    return data[:, t_idx]"
   ],
   "id": "8b3b79e6e058fc29",
   "outputs": [],
   "execution_count": 31
  },
  {
   "metadata": {
    "ExecuteTime": {
     "end_time": "2025-06-16T06:53:13.890671Z",
     "start_time": "2025-06-16T06:53:13.552186Z"
    }
   },
   "cell_type": "code",
   "source": [
    "simulations = []\n",
    "for sim in simulation_data_together:\n",
    "    t_idx = filter_idx(sim['taxis'])\n",
    "    for current_type, values in sim['intrinsic_data'][1].items():\n",
    "        i = filter_data(values, t_idx)\n",
    "        sim['intrinsic_data'][1][current_type] = i\n",
    "    for current_type, values in sim['synaptic_data'][1].items():\n",
    "        i = filter_data(values, t_idx)\n",
    "        sim['synaptic_data'][1][current_type] = i\n",
    "    simulations.append(sim)"
   ],
   "id": "3fef3796360f3afd",
   "outputs": [],
   "execution_count": 35
  },
  {
   "metadata": {
    "ExecuteTime": {
     "end_time": "2025-06-16T06:53:27.189254Z",
     "start_time": "2025-06-16T06:53:18.517070Z"
    }
   },
   "cell_type": "code",
   "source": [
    "with open(f'L:/branch108/correct_time/together_ca_280_480_correct.pkl', 'wb') as f:\n",
    "    pickle.dump(simulations, f)"
   ],
   "id": "16b143298a34798e",
   "outputs": [],
   "execution_count": 36
  }
 ],
 "metadata": {
  "kernelspec": {
   "display_name": "Python 3",
   "language": "python",
   "name": "python3"
  },
  "language_info": {
   "codemirror_mode": {
    "name": "ipython",
    "version": 2
   },
   "file_extension": ".py",
   "mimetype": "text/x-python",
   "name": "python",
   "nbconvert_exporter": "python",
   "pygments_lexer": "ipython2",
   "version": "2.7.6"
  }
 },
 "nbformat": 4,
 "nbformat_minor": 5
}
