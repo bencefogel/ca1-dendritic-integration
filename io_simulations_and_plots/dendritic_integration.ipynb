{
 "cells": [
  {
   "cell_type": "code",
   "id": "initial_id",
   "metadata": {
    "collapsed": true,
    "ExecuteTime": {
     "end_time": "2025-05-29T12:10:32.648915Z",
     "start_time": "2025-05-29T12:10:32.639917Z"
    }
   },
   "source": [
    "%matplotlib notebook\n",
    "import pickle\n",
    "import matplotlib\n",
    "import os\n",
    "\n",
    "import matplotlib.pyplot as plt\n",
    "import numpy as np\n",
    "import matplotlib.cm as cm\n",
    "\n",
    "from matplotlib import gridspec"
   ],
   "outputs": [],
   "execution_count": 18
  },
  {
   "metadata": {
    "ExecuteTime": {
     "end_time": "2025-05-29T12:10:32.694918Z",
     "start_time": "2025-05-29T12:10:32.681916Z"
    }
   },
   "cell_type": "code",
   "source": [
    "dends_dict = {\n",
    "    20: 'dend2_01000',\n",
    "    66: 'dend4_0110',\n",
    "    86: 'dend5_0110110',\n",
    "    108: 'dend5_01111111100',\n",
    "    117: 'dend5_01111111111101',\n",
    "    127: 'dend5_011111111111110'\n",
    "}"
   ],
   "id": "d28fa63e5d5d64a8",
   "outputs": [],
   "execution_count": 19
  },
  {
   "metadata": {
    "ExecuteTime": {
     "end_time": "2025-05-29T12:11:04.479684Z",
     "start_time": "2025-05-29T12:10:32.706919Z"
    }
   },
   "cell_type": "code",
   "source": [
    "data_folder = 'L:/simulation_data/ca_middle'\n",
    "dend = 127\n",
    "fname = f'IN_{dend}'\n",
    "\n",
    "with open(f'{data_folder}/dendint_single_{fname}.pkl', 'rb') as f:\n",
    "    simulation_data_single = pickle.load(f)\n",
    "\n",
    "with open(f'{data_folder}/dendint_together_{fname}.pkl', 'rb') as f:\n",
    "    simulation_data_together = pickle.load(f)"
   ],
   "id": "decd306edb1fe087",
   "outputs": [],
   "execution_count": 20
  },
  {
   "metadata": {},
   "cell_type": "markdown",
   "source": "### plotting functions",
   "id": "d031c226bb0361ad"
  },
  {
   "metadata": {
    "ExecuteTime": {
     "end_time": "2025-06-10T12:36:39.754995Z",
     "start_time": "2025-06-10T12:36:39.715924Z"
    }
   },
   "cell_type": "code",
   "source": [
    "# --- Helper: Plot NSyn Traces ---\n",
    "def plot_together_nsyn_range(sim_together_list, seg_label='soma(0.5)', nsyn=30, legend=True):\n",
    "    fig, ax = plt.subplots(figsize=(10, 6))\n",
    "    colormap = matplotlib.colormaps.get_cmap('viridis')\n",
    "    selected_ns = [1, 2, 4, 6, 8, 10, 15, 20, 25, 30]\n",
    "\n",
    "    for n in selected_ns:\n",
    "        if n > len(sim_together_list):\n",
    "            continue\n",
    "\n",
    "        sim = sim_together_list[n - 1]\n",
    "        seg_labels, v = sim['membrane_potential_data']\n",
    "        t = np.array(sim['taxis'])\n",
    "\n",
    "        try:\n",
    "            idx = list(seg_labels).index(seg_label)\n",
    "        except ValueError:\n",
    "            print(f\"[Warning] Segment {seg_label} not found in sim {n}. Skipping.\")\n",
    "            continue\n",
    "\n",
    "        color = colormap((n - 1) / (nsyn - 1))\n",
    "        ax.plot(t, v[idx, :], label=f'{n}', color=color)\n",
    "\n",
    "    ax.set_xlabel('Time (ms)')\n",
    "    ax.set_ylabel('Membrane Potential (mV)')\n",
    "    ax.set_title(f'{seg_label}')\n",
    "    ax.spines['top'].set_visible(False)\n",
    "    ax.spines['right'].set_visible(False)\n",
    "    if legend:\n",
    "        ax.legend(fontsize=7, loc='upper right')\n",
    "    fig.tight_layout()\n",
    "\n",
    "    return fig\n",
    "\n",
    "\n",
    "# --- Helper: Compute EPSPs for Input-Output Plot ---\n",
    "def compute_epsp(sim_single_list, sim_together_list, seg_label, selected_ns, baseline_start=50, baseline_end=90):\n",
    "    expected_epsps = []\n",
    "    measured_epsps = []\n",
    "\n",
    "    for n in selected_ns:\n",
    "        if n > len(sim_single_list) or n > len(sim_together_list):\n",
    "            continue\n",
    "\n",
    "        # --- Expected EPSP: summed singles ---\n",
    "        summed_trace = None\n",
    "        valid = True\n",
    "\n",
    "        for i in range(n):\n",
    "            sim = sim_single_list[i]\n",
    "            seg_labels, v = sim['membrane_potential_data']\n",
    "            t = np.array(sim['taxis'])\n",
    "\n",
    "            try:\n",
    "                idx = list(seg_labels).index(seg_label)\n",
    "            except ValueError:\n",
    "                valid = False\n",
    "                break\n",
    "\n",
    "            trace = v[idx]\n",
    "            if summed_trace is None:\n",
    "                summed_trace = np.array(trace)\n",
    "                time_vector = np.array(t)\n",
    "            else:\n",
    "                min_len = min(len(summed_trace), len(trace))\n",
    "                summed_trace = summed_trace[:min_len] + trace[:min_len]\n",
    "                time_vector = time_vector[:min_len]\n",
    "\n",
    "        if not valid:\n",
    "            continue\n",
    "\n",
    "        baseline_idx = np.where((time_vector >= baseline_start) & (time_vector < baseline_end))[0]\n",
    "        baseline = np.mean(summed_trace[baseline_idx])\n",
    "        expected_peak = np.max(summed_trace) - baseline\n",
    "\n",
    "        # --- Measured EPSP: from combined simulation ---\n",
    "        sim = sim_together_list[n - 1]\n",
    "        seg_labels, v = sim['membrane_potential_data']\n",
    "        t = np.array(sim['taxis'])\n",
    "\n",
    "        try:\n",
    "            idx = list(seg_labels).index(seg_label)\n",
    "        except ValueError:\n",
    "            continue\n",
    "\n",
    "        trace = v[idx]\n",
    "        min_len = min(len(trace), len(t))\n",
    "        trace = trace[:min_len]\n",
    "        t = t[:min_len]\n",
    "\n",
    "        baseline_idx = np.where((t >= baseline_start) & (t < baseline_end))[0]\n",
    "        baseline_t = np.mean(trace[baseline_idx])\n",
    "        measured_peak = np.max(trace) - baseline_t\n",
    "\n",
    "        # Append absolute EPSP values with baseline re-added\n",
    "        expected_epsps.append(expected_peak + baseline_t)\n",
    "        measured_epsps.append(measured_peak + baseline_t)\n",
    "\n",
    "    return expected_epsps, measured_epsps\n",
    "\n",
    "\n",
    "# --- Prepare Subplots and Composite Figure ---\n",
    "def plot_combined_summary(sim_single_list, sim_together_list, seg_label_dend, dends_dict, dend, nsyn=30):\n",
    "    selected_ns = [1, 2, 4, 6, 8, 10, 15, 20, 25, 30]\n",
    "    colormap = matplotlib.colormaps.get_cmap('viridis')\n",
    "\n",
    "    # Generate individual figures\n",
    "    fig_soma = plot_together_nsyn_range(sim_together_list, seg_label='soma(0.5)', nsyn=nsyn, legend=True)\n",
    "    fig_dend = plot_together_nsyn_range(sim_together_list, seg_label=seg_label_dend, nsyn=nsyn, legend=False)\n",
    "\n",
    "    ax_soma = fig_soma.axes[0]\n",
    "    ax_dend = fig_dend.axes[0]\n",
    "\n",
    "    plt.close(fig_soma)  # Prevent display\n",
    "    plt.close(fig_dend)  # Prevent display\n",
    "\n",
    "    # Compute I/O data\n",
    "    expected_epsps, measured_epsps = compute_epsp(\n",
    "        sim_single_list, sim_together_list,\n",
    "        seg_label='soma(0.5)',\n",
    "        selected_ns=selected_ns\n",
    "    )\n",
    "\n",
    "    # --- Setup composite layout ---\n",
    "    fig = plt.figure(figsize=(14, 8), constrained_layout=True)\n",
    "    gs = gridspec.GridSpec(2, 2, width_ratios=[3, 2], height_ratios=[1, 1], hspace=0.4)\n",
    "\n",
    "    ax0 = fig.add_subplot(gs[0, 0])   # Soma\n",
    "    ax1 = fig.add_subplot(gs[1, 0])   # Dendrite\n",
    "    ax2 = fig.add_subplot(gs[:, 1])   # IO\n",
    "\n",
    "    # Copy traces from generated figures\n",
    "    for src_ax, target_ax in zip([ax_soma, ax_dend], [ax0, ax1]):\n",
    "        for line in src_ax.get_lines():\n",
    "            target_ax.plot(line.get_xdata(), line.get_ydata(), label=line.get_label(), color=line.get_color())\n",
    "        target_ax.set_title(src_ax.get_title())\n",
    "        target_ax.set_xlabel(src_ax.get_xlabel())\n",
    "        target_ax.set_ylabel(src_ax.get_ylabel())\n",
    "        target_ax.legend(fontsize=7, loc='upper right')\n",
    "        target_ax.spines['top'].set_visible(False)\n",
    "        target_ax.spines['right'].set_visible(False)\n",
    "\n",
    "    # --- Plot I/O curve ---\n",
    "    colors = [colormap(n / (nsyn - 1)) for n in selected_ns]\n",
    "    ax2.scatter(expected_epsps, measured_epsps, color=colors, zorder=3)\n",
    "    ax2.plot([-69, -63], [-69, -63], '-', color='lightgray', zorder=1)\n",
    "\n",
    "    # Connect lines\n",
    "    for i in range(len(expected_epsps) - 1):\n",
    "        ax2.plot(expected_epsps[i:i+2], measured_epsps[i:i+2], color='black', linewidth=0.8, zorder=1)\n",
    "\n",
    "    ax2.set_xlabel('Expected EPSP (mV)')\n",
    "    ax2.set_ylabel('Measured EPSP (mV)')\n",
    "    ax2.set_title('Input-Output Curve @ Soma')\n",
    "    ax2.axis('equal')\n",
    "    ax2.spines['top'].set_visible(False)\n",
    "    ax2.spines['right'].set_visible(False)\n",
    "\n",
    "    plt.show()"
   ],
   "id": "f51706c1fa7312",
   "outputs": [],
   "execution_count": 1
  },
  {
   "metadata": {},
   "cell_type": "markdown",
   "source": "### plot all figures together",
   "id": "109c76240e770418"
  },
  {
   "metadata": {
    "ExecuteTime": {
     "end_time": "2025-06-10T12:36:40.519572Z",
     "start_time": "2025-06-10T12:36:40.197573Z"
    }
   },
   "cell_type": "code",
   "source": [
    "seg_label_dend = f'{dends_dict[dend]}(0.5)'\n",
    "plot_combined_summary(\n",
    "    sim_single_list=simulation_data_single,\n",
    "    sim_together_list=simulation_data_together,\n",
    "    seg_label_dend=seg_label_dend,\n",
    "    dends_dict=dends_dict,\n",
    "    dend=dend,\n",
    "    nsyn=30\n",
    ")"
   ],
   "id": "343ff3f92566c64",
   "outputs": [
    {
     "ename": "NameError",
     "evalue": "name 'dends_dict' is not defined",
     "output_type": "error",
     "traceback": [
      "\u001B[1;31m---------------------------------------------------------------------------\u001B[0m",
      "\u001B[1;31mNameError\u001B[0m                                 Traceback (most recent call last)",
      "Cell \u001B[1;32mIn[2], line 1\u001B[0m\n\u001B[1;32m----> 1\u001B[0m seg_label_dend \u001B[38;5;241m=\u001B[39m \u001B[38;5;124mf\u001B[39m\u001B[38;5;124m'\u001B[39m\u001B[38;5;132;01m{\u001B[39;00mdends_dict[dend]\u001B[38;5;132;01m}\u001B[39;00m\u001B[38;5;124m(0.5)\u001B[39m\u001B[38;5;124m'\u001B[39m\n\u001B[0;32m      2\u001B[0m plot_combined_summary(\n\u001B[0;32m      3\u001B[0m     sim_single_list\u001B[38;5;241m=\u001B[39msimulation_data_single,\n\u001B[0;32m      4\u001B[0m     sim_together_list\u001B[38;5;241m=\u001B[39msimulation_data_together,\n\u001B[1;32m   (...)\u001B[0m\n\u001B[0;32m      8\u001B[0m     nsyn\u001B[38;5;241m=\u001B[39m\u001B[38;5;241m30\u001B[39m\n\u001B[0;32m      9\u001B[0m )\n",
      "\u001B[1;31mNameError\u001B[0m: name 'dends_dict' is not defined"
     ]
    }
   ],
   "execution_count": 2
  },
  {
   "metadata": {
    "ExecuteTime": {
     "end_time": "2025-05-29T12:11:04.919202Z",
     "start_time": "2025-05-29T12:11:04.905877Z"
    }
   },
   "cell_type": "code",
   "source": "",
   "id": "b04c56c86000bd63",
   "outputs": [],
   "execution_count": null
  },
  {
   "metadata": {
    "ExecuteTime": {
     "end_time": "2025-05-29T12:11:04.949443Z",
     "start_time": "2025-05-29T12:11:04.936443Z"
    }
   },
   "cell_type": "code",
   "source": "",
   "id": "6cf4656ad624ebd5",
   "outputs": [],
   "execution_count": null
  }
 ],
 "metadata": {
  "kernelspec": {
   "display_name": "Python 3",
   "language": "python",
   "name": "python3"
  },
  "language_info": {
   "codemirror_mode": {
    "name": "ipython",
    "version": 2
   },
   "file_extension": ".py",
   "mimetype": "text/x-python",
   "name": "python",
   "nbconvert_exporter": "python",
   "pygments_lexer": "ipython2",
   "version": "2.7.6"
  }
 },
 "nbformat": 4,
 "nbformat_minor": 5
}
