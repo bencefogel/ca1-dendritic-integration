{
 "cells": [
  {
   "metadata": {},
   "cell_type": "markdown",
   "source": [
    "## Input-output integration of an oblique branch\n",
    "- branch 108 with and without Ca2+ currents\n",
    "- stimulus configurations: 8, 10, 15, 20\n",
    "- t = [280; 480]"
   ],
   "id": "486ef4b2f688a3b1"
  },
  {
   "metadata": {},
   "cell_type": "markdown",
   "source": "### Import packages",
   "id": "4f373baccedfbaee"
  },
  {
   "metadata": {
    "ExecuteTime": {
     "end_time": "2025-06-16T06:34:04.660004Z",
     "start_time": "2025-06-16T06:34:04.574902Z"
    }
   },
   "cell_type": "code",
   "source": [
    "import pickle\n",
    "import numpy as np"
   ],
   "id": "16064aaff7eeb1b9",
   "outputs": [],
   "execution_count": 1
  },
  {
   "metadata": {},
   "cell_type": "markdown",
   "source": "### Load data",
   "id": "fa6452e844e11067"
  },
  {
   "cell_type": "code",
   "id": "initial_id",
   "metadata": {
    "collapsed": true,
    "ExecuteTime": {
     "end_time": "2025-06-16T06:54:51.845782Z",
     "start_time": "2025-06-16T06:54:51.650386Z"
    }
   },
   "source": [
    "data_folder = 'L:/branch108/correct_time'\n",
    "dend = 108\n",
    "fname = f'IN_{dend}'\n",
    "\n",
    "# with open(f'{data_folder}/single_noca.pkl', 'rb') as f:\n",
    "#     simulation_data_single = pickle.load(f)\n",
    "\n",
    "with open(f'{data_folder}/together_ca_280_480_correct.pkl', 'rb') as f:\n",
    "    simulation_data_together = pickle.load(f)"
   ],
   "outputs": [],
   "execution_count": 17
  },
  {
   "metadata": {
    "ExecuteTime": {
     "end_time": "2025-06-16T06:53:54.011478Z",
     "start_time": "2025-06-16T06:53:54.003479Z"
    }
   },
   "cell_type": "code",
   "source": [
    "def filter_idx(t: np.array) -> np.array:\n",
    "    t_idx = np.where((t > 280) & (t < 480))\n",
    "    return np.squeeze(np.array(t_idx))\n",
    "\n",
    "def filter_data(data:np.array, t_idx:np.array) -> np.array:\n",
    "    return data[:, t_idx]\n",
    "\n",
    "def update_data(sim:dict, t_idx:np.array, v_filtered:np.array) -> dict:\n",
    "    sim['membrane_potential_data'][1] = v_filtered\n",
    "    sim['taxis'] = sim['taxis'][t_idx]\n",
    "    return sim\n"
   ],
   "id": "127fac4e81481e6",
   "outputs": [],
   "execution_count": 14
  },
  {
   "metadata": {
    "ExecuteTime": {
     "end_time": "2025-06-16T06:54:59.538091Z",
     "start_time": "2025-06-16T06:54:59.460388Z"
    }
   },
   "cell_type": "code",
   "source": [
    "simulations = []\n",
    "for sim in simulation_data_together:\n",
    "    data = sim['membrane_potential_data'][1]\n",
    "    t_idx = filter_idx(sim['taxis'])\n",
    "    v_filtered = filter_data(data, t_idx)\n",
    "    sim_updated = update_data(sim, t_idx, v_filtered)\n",
    "    simulations.append(sim_updated)\n"
   ],
   "id": "deeb86f42ce8f4eb",
   "outputs": [],
   "execution_count": 18
  },
  {
   "metadata": {
    "ExecuteTime": {
     "end_time": "2025-06-16T06:55:11.197984Z",
     "start_time": "2025-06-16T06:55:05.748442Z"
    }
   },
   "cell_type": "code",
   "source": [
    "with open(f'L:/branch108/correct_time/together_ca_280_480_correct.pkl', 'wb') as f:\n",
    "    pickle.dump(simulations, f)"
   ],
   "id": "7d71e0252c0d64a8",
   "outputs": [],
   "execution_count": 19
  }
 ],
 "metadata": {
  "kernelspec": {
   "display_name": "Python 3",
   "language": "python",
   "name": "python3"
  },
  "language_info": {
   "codemirror_mode": {
    "name": "ipython",
    "version": 2
   },
   "file_extension": ".py",
   "mimetype": "text/x-python",
   "name": "python",
   "nbconvert_exporter": "python",
   "pygments_lexer": "ipython2",
   "version": "2.7.6"
  }
 },
 "nbformat": 4,
 "nbformat_minor": 5
}
